{
 "cells": [
  {
   "cell_type": "code",
   "execution_count": 23,
   "id": "9e6f84e5-e38d-49eb-8a10-8545ce51874f",
   "metadata": {},
   "outputs": [
    {
     "name": "stdout",
     "output_type": "stream",
     "text": [
      "\n",
      "    Welcome Sir! Which Operation would you like to perform today?\n",
      "    1. Add\n",
      "    2. Subtract\n",
      "    3. Multiply\n",
      "    4. Division\n",
      "    5. Power\n",
      "    6. Square Root\n",
      "    7. Exit\n",
      "    \n"
     ]
    },
    {
     "name": "stdin",
     "output_type": "stream",
     "text": [
      "Please press the button:  1\n",
      "Enter numbers separated by spaces:  2 2 2 2 2 2 2\n"
     ]
    },
    {
     "name": "stdout",
     "output_type": "stream",
     "text": [
      "That's your result: 14\n",
      "\n",
      "    Welcome Sir! Which Operation would you like to perform today?\n",
      "    1. Add\n",
      "    2. Subtract\n",
      "    3. Multiply\n",
      "    4. Division\n",
      "    5. Power\n",
      "    6. Square Root\n",
      "    7. Exit\n",
      "    \n"
     ]
    },
    {
     "ename": "KeyboardInterrupt",
     "evalue": "Interrupted by user",
     "output_type": "error",
     "traceback": [
      "\u001b[1;31m---------------------------------------------------------------------------\u001b[0m",
      "\u001b[1;31mKeyboardInterrupt\u001b[0m                         Traceback (most recent call last)",
      "Cell \u001b[1;32mIn[23], line 85\u001b[0m\n\u001b[0;32m     82\u001b[0m             \u001b[38;5;28mprint\u001b[39m(\u001b[38;5;124m\"\u001b[39m\u001b[38;5;124mInvalid option! Please enter a number between 1 and 7.\u001b[39m\u001b[38;5;124m\"\u001b[39m)\n\u001b[0;32m     84\u001b[0m \u001b[38;5;66;03m# Run the calculator program\u001b[39;00m\n\u001b[1;32m---> 85\u001b[0m \u001b[43mmain\u001b[49m\u001b[43m(\u001b[49m\u001b[43m)\u001b[49m\n",
      "Cell \u001b[1;32mIn[23], line 64\u001b[0m, in \u001b[0;36mmain\u001b[1;34m()\u001b[0m\n\u001b[0;32m     62\u001b[0m \u001b[38;5;28;01mwhile\u001b[39;00m \u001b[38;5;28;01mTrue\u001b[39;00m:\n\u001b[0;32m     63\u001b[0m     show_menu()\n\u001b[1;32m---> 64\u001b[0m     user \u001b[38;5;241m=\u001b[39m \u001b[38;5;28mint\u001b[39m(\u001b[38;5;28;43minput\u001b[39;49m\u001b[43m(\u001b[49m\u001b[38;5;124;43m'\u001b[39;49m\u001b[38;5;124;43mPlease press the button: \u001b[39;49m\u001b[38;5;124;43m'\u001b[39;49m\u001b[43m)\u001b[49m)\n\u001b[0;32m     66\u001b[0m     \u001b[38;5;28;01mif\u001b[39;00m user \u001b[38;5;241m==\u001b[39m \u001b[38;5;241m1\u001b[39m:\n\u001b[0;32m     67\u001b[0m         add_numbers()\n",
      "File \u001b[1;32m~\\.conda\\envs\\rio\\Lib\\site-packages\\ipykernel\\kernelbase.py:1282\u001b[0m, in \u001b[0;36mKernel.raw_input\u001b[1;34m(self, prompt)\u001b[0m\n\u001b[0;32m   1280\u001b[0m     msg \u001b[38;5;241m=\u001b[39m \u001b[38;5;124m\"\u001b[39m\u001b[38;5;124mraw_input was called, but this frontend does not support input requests.\u001b[39m\u001b[38;5;124m\"\u001b[39m\n\u001b[0;32m   1281\u001b[0m     \u001b[38;5;28;01mraise\u001b[39;00m StdinNotImplementedError(msg)\n\u001b[1;32m-> 1282\u001b[0m \u001b[38;5;28;01mreturn\u001b[39;00m \u001b[38;5;28;43mself\u001b[39;49m\u001b[38;5;241;43m.\u001b[39;49m\u001b[43m_input_request\u001b[49m\u001b[43m(\u001b[49m\n\u001b[0;32m   1283\u001b[0m \u001b[43m    \u001b[49m\u001b[38;5;28;43mstr\u001b[39;49m\u001b[43m(\u001b[49m\u001b[43mprompt\u001b[49m\u001b[43m)\u001b[49m\u001b[43m,\u001b[49m\n\u001b[0;32m   1284\u001b[0m \u001b[43m    \u001b[49m\u001b[38;5;28;43mself\u001b[39;49m\u001b[38;5;241;43m.\u001b[39;49m\u001b[43m_parent_ident\u001b[49m\u001b[43m[\u001b[49m\u001b[38;5;124;43m\"\u001b[39;49m\u001b[38;5;124;43mshell\u001b[39;49m\u001b[38;5;124;43m\"\u001b[39;49m\u001b[43m]\u001b[49m\u001b[43m,\u001b[49m\n\u001b[0;32m   1285\u001b[0m \u001b[43m    \u001b[49m\u001b[38;5;28;43mself\u001b[39;49m\u001b[38;5;241;43m.\u001b[39;49m\u001b[43mget_parent\u001b[49m\u001b[43m(\u001b[49m\u001b[38;5;124;43m\"\u001b[39;49m\u001b[38;5;124;43mshell\u001b[39;49m\u001b[38;5;124;43m\"\u001b[39;49m\u001b[43m)\u001b[49m\u001b[43m,\u001b[49m\n\u001b[0;32m   1286\u001b[0m \u001b[43m    \u001b[49m\u001b[43mpassword\u001b[49m\u001b[38;5;241;43m=\u001b[39;49m\u001b[38;5;28;43;01mFalse\u001b[39;49;00m\u001b[43m,\u001b[49m\n\u001b[0;32m   1287\u001b[0m \u001b[43m\u001b[49m\u001b[43m)\u001b[49m\n",
      "File \u001b[1;32m~\\.conda\\envs\\rio\\Lib\\site-packages\\ipykernel\\kernelbase.py:1325\u001b[0m, in \u001b[0;36mKernel._input_request\u001b[1;34m(self, prompt, ident, parent, password)\u001b[0m\n\u001b[0;32m   1322\u001b[0m \u001b[38;5;28;01mexcept\u001b[39;00m \u001b[38;5;167;01mKeyboardInterrupt\u001b[39;00m:\n\u001b[0;32m   1323\u001b[0m     \u001b[38;5;66;03m# re-raise KeyboardInterrupt, to truncate traceback\u001b[39;00m\n\u001b[0;32m   1324\u001b[0m     msg \u001b[38;5;241m=\u001b[39m \u001b[38;5;124m\"\u001b[39m\u001b[38;5;124mInterrupted by user\u001b[39m\u001b[38;5;124m\"\u001b[39m\n\u001b[1;32m-> 1325\u001b[0m     \u001b[38;5;28;01mraise\u001b[39;00m \u001b[38;5;167;01mKeyboardInterrupt\u001b[39;00m(msg) \u001b[38;5;28;01mfrom\u001b[39;00m \u001b[38;5;28;01mNone\u001b[39;00m\n\u001b[0;32m   1326\u001b[0m \u001b[38;5;28;01mexcept\u001b[39;00m \u001b[38;5;167;01mException\u001b[39;00m:\n\u001b[0;32m   1327\u001b[0m     \u001b[38;5;28mself\u001b[39m\u001b[38;5;241m.\u001b[39mlog\u001b[38;5;241m.\u001b[39mwarning(\u001b[38;5;124m\"\u001b[39m\u001b[38;5;124mInvalid Message:\u001b[39m\u001b[38;5;124m\"\u001b[39m, exc_info\u001b[38;5;241m=\u001b[39m\u001b[38;5;28;01mTrue\u001b[39;00m)\n",
      "\u001b[1;31mKeyboardInterrupt\u001b[0m: Interrupted by user"
     ]
    }
   ],
   "source": [
    "import math\n",
    "\n",
    "# Function to show menu\n",
    "def show_menu():\n",
    "    print(\"\"\"\n",
    "    Welcome Sir! Which Operation would you like to perform today?\n",
    "    1. Add\n",
    "    2. Subtract\n",
    "    3. Multiply\n",
    "    4. Division\n",
    "    5. Power\n",
    "    6. Square Root\n",
    "    7. Exit\n",
    "    \"\"\")\n",
    "\n",
    "# Function to add numbers\n",
    "def add_numbers():\n",
    "    user_input = input(\"Enter numbers separated by spaces: \")\n",
    "    numbers = list(map(int, user_input.split()))\n",
    "    result = sum(numbers)\n",
    "    print(f\"That's your result: {result}\")\n",
    "\n",
    "# Function to subtract numbers\n",
    "def subtract_numbers():\n",
    "    no1 = int(input(\"Enter number 1: \"))\n",
    "    no2 = int(input(\"Enter number 2: \"))\n",
    "    result = no1 - no2\n",
    "    print(f\"That's your result: {result}\")\n",
    "\n",
    "# Function to multiply numbers\n",
    "def multiply_numbers():\n",
    "    no1 = int(input(\"Enter number 1: \"))\n",
    "    no2 = int(input(\"Enter number 2: \"))\n",
    "    result = no1 * no2\n",
    "    print(f\"That's your result: {result}\")\n",
    "\n",
    "# Function to divide numbers\n",
    "def divide_numbers():\n",
    "    no1 = int(input(\"Enter number 1: \"))\n",
    "    no2 = int(input(\"Enter number 2: \"))\n",
    "    if no2 == 0:\n",
    "        print(\"Error: Division by zero is not allowed.\")\n",
    "    else:\n",
    "        result = no1 / no2\n",
    "        print(f\"That's your result: {result}\")\n",
    "\n",
    "# Function to raise a number to a power\n",
    "def power_numbers():\n",
    "    no1 = int(input(\"Enter number 1: \"))\n",
    "    no2 = int(input(\"Enter the power: \"))\n",
    "    result = no1 ** no2\n",
    "    print(f\"That's your result: {result}\")\n",
    "\n",
    "# Function to find square root\n",
    "def square_root():\n",
    "    no1 = int(input(\"Enter number: \"))\n",
    "    result = math.sqrt(no1)\n",
    "    print(f\"That's your result: {result}\")\n",
    "\n",
    "# Main program loop with function calls\n",
    "def main():\n",
    "    while True:\n",
    "        show_menu()\n",
    "        user = int(input('Please press the button: '))\n",
    "        \n",
    "        if user == 1:\n",
    "            add_numbers()\n",
    "        elif user == 2:\n",
    "            subtract_numbers()\n",
    "        elif user == 3:\n",
    "            multiply_numbers()\n",
    "        elif user == 4:\n",
    "            divide_numbers()\n",
    "        elif user == 5:\n",
    "            power_numbers()\n",
    "        elif user == 6:\n",
    "            square_root()\n",
    "        elif user == 7:\n",
    "            print(\"Exiting the calculator. Goodbye!\")\n",
    "            break\n",
    "        else:\n",
    "            print(\"Invalid option! Please enter a number between 1 and 7.\")\n",
    "\n",
    "# Run the calculator program\n",
    "main()\n"
   ]
  },
  {
   "cell_type": "code",
   "execution_count": null,
   "id": "7c794ad1-72be-4dcb-a76a-a556e4dfd7bf",
   "metadata": {},
   "outputs": [],
   "source": []
  }
 ],
 "metadata": {
  "kernelspec": {
   "display_name": "Python 3 (ipykernel)",
   "language": "python",
   "name": "python3"
  },
  "language_info": {
   "codemirror_mode": {
    "name": "ipython",
    "version": 3
   },
   "file_extension": ".py",
   "mimetype": "text/x-python",
   "name": "python",
   "nbconvert_exporter": "python",
   "pygments_lexer": "ipython3",
   "version": "3.12.4"
  }
 },
 "nbformat": 4,
 "nbformat_minor": 5
}
